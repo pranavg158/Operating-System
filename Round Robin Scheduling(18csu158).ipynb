{
 "cells": [
  {
   "cell_type": "markdown",
   "metadata": {},
   "source": [
    "# ROUND ROBIN SCHEDULING"
   ]
  },
  {
   "cell_type": "markdown",
   "metadata": {},
   "source": [
    "# 1)Without arrival time"
   ]
  },
  {
   "cell_type": "code",
   "execution_count": 11,
   "metadata": {},
   "outputs": [
    {
     "name": "stdout",
     "output_type": "stream",
     "text": [
      "Enter number of processes: 3\n",
      "Entern id for process 1 :1\n",
      "Enter Burst Time for process 1 :10\n",
      "Entern id for process 2 :2\n",
      "Enter Burst Time for process 2 :5\n",
      "Entern id for process 3 :3\n",
      "Enter Burst Time for process 3 :8\n",
      "Processes Burst Time Waiting Time Turn-Around Time\n",
      "  1 \t\t 10 \t\t 13 \t\t 23\n",
      "  2 \t\t 5 \t\t 10 \t\t 15\n",
      "  3 \t\t 8 \t\t 13 \t\t 21\n",
      "\n",
      "Average waiting time = 12.00000 \n",
      "Average turn around time = 19.66667 \n"
     ]
    }
   ],
   "source": [
    "def findWaitingTime(processes, n, bt,wt, quantum): \n",
    "    rem_bt = [0] * n  \n",
    "    for i in range(n): \n",
    "        rem_bt[i] = bt[i] \n",
    "    t = 0  \n",
    "    while(1): \n",
    "        done = True\n",
    "        for i in range(n):  \n",
    "            if (rem_bt[i] > 0) : \n",
    "                done = False \n",
    "\n",
    "                if (rem_bt[i] > quantum) :  \n",
    "                    t += quantum  \n",
    "                    rem_bt[i] -= quantum  \n",
    "                else: \n",
    "                    t = t + rem_bt[i]  \n",
    "                    wt[i] = t - bt[i]  \n",
    "                    rem_bt[i] = 0 \n",
    "        if (done == True): \n",
    "            break \n",
    "def findTurnAroundTime(processes, n, bt, wt, tat): \n",
    "    for i in range(n): \n",
    "        tat[i] = bt[i] + wt[i]  \n",
    "def findavgTime(processes, n, bt, quantum): \n",
    "    wt = [0] * n \n",
    "    tat = [0] * n  \n",
    "    findWaitingTime(processes, n, bt,wt, quantum)  \n",
    "    findTurnAroundTime(processes, n, bt, wt, tat)  \n",
    "    print(\"Processes Burst Time Waiting\", \n",
    "          \"Time Turn-Around Time\") \n",
    "    total_wt = 0\n",
    "    total_tat = 0\n",
    "    for i in range(n): \n",
    "\n",
    "        total_wt = total_wt + wt[i] \n",
    "        total_tat = total_tat + tat[i] \n",
    "        print(\" \", i + 1, \"\\t\\t\", bt[i], \"\\t\\t\", wt[i], \"\\t\\t\", tat[i]) \n",
    "\n",
    "    print(\"\\nAverage waiting time = %.5f \"%(total_wt /n) ) \n",
    "    print(\"Average turn around time = %.5f \"% (total_tat / n)) \n",
    "if __name__ ==\"__main__\": \n",
    "    num=int(input(\"Enter number of processes: \")) \n",
    "    quantum = 2\n",
    "    proc=[]\n",
    "    burst_time=[]\n",
    "    for i in range(num):\n",
    "        pid=int(input(\"Entern id for process {} :\".format(i+1)))\n",
    "        b_t=int(input(\"Enter Burst Time for process {} :\".format(i+1)))\n",
    "        proc.append(pid)\n",
    "        burst_time.append(b_t)\n",
    "    n = len(proc)\n",
    "    findavgTime(proc, n, burst_time, quantum) "
   ]
  },
  {
   "cell_type": "markdown",
   "metadata": {},
   "source": [
    "# 2)With arrival time"
   ]
  },
  {
   "cell_type": "code",
   "execution_count": 1,
   "metadata": {},
   "outputs": [
    {
     "name": "stdout",
     "output_type": "stream",
     "text": [
      "Enter Total Process Number: \n",
      "3\n",
      "Enter process arrival time and burst time\n",
      "1 4\n",
      "Enter process arrival time and burst time\n",
      "2 3\n",
      "Enter process arrival time and burst time\n",
      "3 5\n",
      "Enter time quantum\n",
      "2\n",
      "\n",
      "Avg Waiting Time is  3.6666666666666665\n",
      "Avg Turnaround Time is  7.666666666666667\n"
     ]
    }
   ],
   "source": [
    "    print(\"Enter Total Process Number: \")\n",
    "    total_p_no = int(input())\n",
    "    total_time = 0 \n",
    "    total_time_counted = 0\n",
    "    proc = []\n",
    "    wait_time = 0\n",
    "    turnaround_time = 0\n",
    "    for _ in range(total_p_no):\n",
    "        print(\"Enter process arrival time and burst time\") \n",
    "        input_info = list(map(int, input().split(\" \")))\n",
    "        arrival, burst, remaining_time = input_info[0], input_info[1], input_info[1]\n",
    "        proc.append([arrival, burst, remaining_time, 0])\n",
    "        total_time += burst\n",
    "    print(\"Enter time quantum\")\n",
    "    time_quantum = int(input())\n",
    "    while total_time != 0:\n",
    "        for i in range(len(proc)):\n",
    "            if proc[i][2] <= time_quantum and proc[i][2] >= 0:\n",
    "                total_time_counted += proc[i][2]\n",
    "                total_time -= proc[i][2]\n",
    "                proc[i][2] = 0 \n",
    "            elif proc[i][2] > 0:\n",
    "                proc[i][2] -= time_quantum\n",
    "                total_time -= time_quantum\n",
    "                total_time_counted += time_quantum\n",
    "            if proc[i][2] == 0 and proc[i][3] != 1:\n",
    "                wait_time += total_time_counted - proc[i][0] - proc[i][1]\n",
    "                turnaround_time += total_time_counted - proc[i][0]\n",
    "                proc[i][3] = 1  \n",
    "    print(\"\\nAvg Waiting Time is \", (wait_time * 1) / total_p_no)\n",
    "    print(\"Avg Turnaround Time is \", (turnaround_time * 1) / total_p_no)"
   ]
  },
  {
   "cell_type": "code",
   "execution_count": 26,
   "metadata": {},
   "outputs": [
    {
     "name": "stdout",
     "output_type": "stream",
     "text": [
      "Processes Burst Time Waiting  Arrival Time\t Time Turn-Around Time\n",
      "  1 \t\t 0 \t\t 5 \t\t 7 \t\t 12\n",
      "  2 \t\t 1 \t\t 4 \t\t 7 \t\t 10\n",
      "  3 \t\t 2 \t\t 2 \t\t 4 \t\t 4\n",
      "  4 \t\t 3 \t\t 1 \t\t 6 \t\t 4\n",
      "\n",
      "Average waiting time = 6.00000 \n",
      "Average turn around time = 7.50000 \n"
     ]
    }
   ],
   "source": [
    "def findWaitingTime(processes, n, bt,wt, quantum,arrival_time): \n",
    "    rem_bt = [0] * n  \n",
    "    for i in range(n): \n",
    "        rem_bt[i] = bt[i] \n",
    "    t = 0 \n",
    "    arrival=0\n",
    "    while(1): \n",
    "        done = True\n",
    "        for i in range(n):  \n",
    "            if (rem_bt[i] > 0) : \n",
    "                done = False \n",
    "\n",
    "                if (rem_bt[i] > quantum and arrival_time[i]<=arrival) :  \n",
    "                    t += quantum  \n",
    "                    rem_bt[i] -= quantum \n",
    "                    arrival=arrival+1\n",
    "                else:\n",
    "                    if(arrival_time[i]<=arrival):\n",
    "                        arrival=arrival+1\n",
    "                        t = t + rem_bt[i]  \n",
    "                        wt[i] = t - bt[i]  \n",
    "                        rem_bt[i] = 0 \n",
    "        if (done == True): \n",
    "            break \n",
    "def findTurnAroundTime(processes, n, bt, wt, tat,arrival_time): \n",
    "    for i in range(n): \n",
    "        tat[i] = bt[i] + wt[i] - arrival_time[i]\n",
    "def findavgTime(processes, n, bt, quantum,arrival_time): \n",
    "    wt = [0] * n \n",
    "    tat = [0] * n  \n",
    "    findWaitingTime(processes, n, bt,wt, quantum,arrival_time)  \n",
    "    findTurnAroundTime(processes, n, bt, wt, tat,arrival_time)  \n",
    "    print(\"Processes Burst Time Waiting\",\" Arrival Time\\t\", \n",
    "          \"Time Turn-Around Time\") \n",
    "    total_wt = 0\n",
    "    total_tat = 0\n",
    "    for i in range(n): \n",
    "\n",
    "        total_wt = total_wt + wt[i] \n",
    "        total_tat = total_tat + tat[i] \n",
    "        print(\" \", i + 1, \"\\t\\t\", arrival_time[i],\"\\t\\t\", bt[i], \"\\t\\t\", wt[i], \"\\t\\t\", tat[i]) \n",
    "\n",
    "    print(\"\\nAverage waiting time = %.5f \"%(total_wt /n) ) \n",
    "    print(\"Average turn around time = %.5f \"% (total_tat / n)) \n",
    "if __name__ ==\"__main__\": \n",
    "    quantum=2\n",
    "    arrival_time=[0,1,2,3]\n",
    "    proc=[1,2,3,4]\n",
    "    burst_time=[5,4,2,1]\n",
    "    n=len(proc)\n",
    "    findavgTime(proc, n, burst_time, quantum,arrival_time) "
   ]
  }
 ],
 "metadata": {
  "kernelspec": {
   "display_name": "Python 3",
   "language": "python",
   "name": "python3"
  },
  "language_info": {
   "codemirror_mode": {
    "name": "ipython",
    "version": 3
   },
   "file_extension": ".py",
   "mimetype": "text/x-python",
   "name": "python",
   "nbconvert_exporter": "python",
   "pygments_lexer": "ipython3",
   "version": "3.8.3"
  }
 },
 "nbformat": 4,
 "nbformat_minor": 4
}
