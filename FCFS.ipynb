{
 "cells": [
  {
   "cell_type": "markdown",
   "metadata": {},
   "source": [
    "# Pranav Goel\n"
   ]
  },
  {
   "cell_type": "markdown",
   "metadata": {},
   "source": [
    "# 18csu158"
   ]
  },
  {
   "cell_type": "markdown",
   "metadata": {},
   "source": [
    "# FCFS With Arrival Time"
   ]
  },
  {
   "cell_type": "code",
   "execution_count": 3,
   "metadata": {},
   "outputs": [
    {
     "name": "stdout",
     "output_type": "stream",
     "text": [
      "Processes   Burst Time   Arrival Time     Waiting Time   Turn-Around Time \n",
      "\n",
      "  1 \t\t 4 \t\t 1 \t\t 0 \t\t  4\n",
      "  2 \t\t 9 \t\t 3 \t\t 1 \t\t  10\n",
      "  3 \t\t 14 \t\t 15 \t\t 0 \t\t  14\n",
      "Average waiting time:  0.3333333333333333\n",
      "\n",
      "Average turn around time  9.333333333333334\n"
     ]
    }
   ],
   "source": [
    "def TurnAroundTime(processes, n, BT, wt, tat):  \n",
    "    for i in range(n): \n",
    "        tat[i] = BT[i] + wt[i]\n",
    "\n",
    "def WaitingTime(processes, n, BT, wt, at):  \n",
    "    serv_time = [0] * n  \n",
    "    serv_time[0] = 0\n",
    "    wt[0] = 0\n",
    "    for i in range(1, n):  \n",
    "        serv_time[i] = (serv_time[i - 1] + BT[i - 1])    \n",
    "        wt[i] = serv_time[i] - at[i]  \n",
    "        if (wt[i] < 0): \n",
    "            wt[i] = 0\n",
    "            \n",
    "  \n",
    "    \n",
    "def avgTime(processes, n, BT, at):  \n",
    "    wt = [0] * n \n",
    "    tat = [0] * n  \n",
    "\n",
    "    WaitingTime(processes, n, BT, wt, at)  \n",
    "  \n",
    "    TurnAroundTime(processes, n, BT, wt, tat)  \n",
    "  \n",
    "    print(\"Processes   Burst Time   Arrival Time     Waiting\",  \n",
    "          \"Time   Turn-Around Time \\n\") \n",
    "    total_wt = 0\n",
    "    total_tat = 0\n",
    "    for i in range(n): \n",
    "  \n",
    "        total_wt = total_wt + wt[i]  \n",
    "        total_tat = total_tat + tat[i]  \n",
    "         \n",
    "        print(\" \", i + 1, \"\\t\\t\", BT[i], \"\\t\\t\", at[i],  \n",
    "              \"\\t\\t\", wt[i], \"\\t\\t \", tat[i])  \n",
    "  \n",
    "    print(\"Average waiting time: \",(total_wt /n)) \n",
    "    print(\"\\nAverage turn around time \", total_tat / n)  \n",
    "    \n",
    "\n",
    "at = [1, 3,15]  \n",
    "processes = [1, 2, 3] \n",
    "\n",
    "\n",
    "BT = [4, 9, 14]  \n",
    "n = 3\n",
    "avgTime(processes, n, BT, at)"
   ]
  },
  {
   "cell_type": "markdown",
   "metadata": {},
   "source": [
    "# FCFS Without Arrival time"
   ]
  },
  {
   "cell_type": "code",
   "execution_count": 4,
   "metadata": {},
   "outputs": [
    {
     "name": "stdout",
     "output_type": "stream",
     "text": [
      "Processes Burst time  Waiting time  Turn around time\n",
      " 1\t\t10\t 0\t\t 10\n",
      " 2\t\t5\t 10\t\t 15\n",
      " 3\t\t8\t 15\t\t 23\n",
      "Average waiting time = 8.333333333333334\n",
      "Average turn around time = 16.0\n"
     ]
    }
   ],
   "source": [
    "def findWaitingTime(processes, n, \n",
    "                    bt, wt): \n",
    "    wt[0] = 0\n",
    "   \n",
    "    for i in range(1, n ): \n",
    "        wt[i] = bt[i - 1] + wt[i - 1]  \n",
    "   \n",
    "def findTurnAroundTime(processes, n,  \n",
    "                       bt, wt, tat): \n",
    "   \n",
    "    for i in range(n): \n",
    "        tat[i] = bt[i] + wt[i] \n",
    "   \n",
    "def findavgTime( processes, n, bt): \n",
    "  \n",
    "    wt = [0] * n \n",
    "    tat = [0] * n  \n",
    "    total_wt = 0\n",
    "    total_tat = 0\n",
    "   \n",
    "    findWaitingTime(processes, n, bt, wt)  \n",
    "    findTurnAroundTime(processes, n,  \n",
    "                       bt, wt, tat) \n",
    "  \n",
    "    print( \"Processes Burst time \" + \n",
    "                  \" Waiting time \" + \n",
    "                \" Turn around time\") \n",
    "   \n",
    "    for i in range(n): \n",
    "      \n",
    "        total_wt = total_wt + wt[i] \n",
    "        total_tat = total_tat + tat[i] \n",
    "        print(\" \" + str(i + 1) + \"\\t\\t\" + \n",
    "                    str(bt[i]) + \"\\t \" + \n",
    "                    str(wt[i]) + \"\\t\\t \" + \n",
    "                    str(tat[i]))  \n",
    "  \n",
    "    print( \"Average waiting time = \"+\n",
    "                   str(total_wt / n)) \n",
    "    print(\"Average turn around time = \"+\n",
    "                     str(total_tat / n)) \n",
    "  \n",
    "if __name__ ==\"__main__\": \n",
    "      \n",
    "     \n",
    "    processes = [ 1, 2, 3] \n",
    "    n = len(processes)  \n",
    "    burst_time = [10, 5, 8] \n",
    "  \n",
    "    findavgTime(processes, n, burst_time) "
   ]
  },
  {
   "cell_type": "code",
   "execution_count": 1,
   "metadata": {},
   "outputs": [
    {
     "name": "stdout",
     "output_type": "stream",
     "text": [
      "Enter the number of process: \n",
      "3\n",
      "Enter the burst time of the processes: \n",
      "\n",
      "3\n",
      "4\n",
      "3\n",
      "\n",
      "\n",
      "Process\t  Burst Time\t  Waiting Time\t  Turn Around Time\n",
      "0\t\t3\t\t0\t\t3\n",
      "\n",
      "\n",
      "1\t\t4\t\t3\t\t7\n",
      "\n",
      "\n",
      "2\t\t3\t\t7\t\t10\n",
      "\n",
      "\n",
      "Average Waiting time is: 3.3333333333333335\n",
      "Average Turn Arount Time is: 5.666666666666667\n"
     ]
    }
   ],
   "source": [
    "BT=[]\n",
    "print(\"Enter the number of process: \")\n",
    "n=int(input())\n",
    "print(\"Enter the burst time of the processes: \\n\")\n",
    "for i in range(0,n):\n",
    "    x=int(input())\n",
    "    bt.append(x)\n",
    "\n",
    "WT=[]\n",
    "avgwt=0\n",
    "tat=[]\n",
    "avgtat=0\n",
    "\n",
    "WT.insert(0,0)\n",
    "tat.insert(0,bt[0])\n",
    "\n",
    "for i in range(1,len(bt)):\n",
    "    WT.insert(i,WT[i-1]+BT[i-1])\n",
    "    tat.insert(i,WT[i]+BT[i])\n",
    "    avgwt+=WT[i]\n",
    "    avgtat+=tat[i]\n",
    "\n",
    "avgwt=float(avgwt)/n\n",
    "avgtat=float(avgtat)/n\n",
    "print(\"\\n\")\n",
    "print(\"Process\\t  Burst Time\\t  Waiting Time\\t  Turn Around Time\")\n",
    "\n",
    "for i in range(0,n):\n",
    "    print(str(i)+\"\\t\\t\"+str(BT[i])+\"\\t\\t\"+str(WT[i])+\"\\t\\t\"+str(tat[i]))\n",
    "    print(\"\\n\")\n",
    "\n",
    "print(\"Average Waiting time is: \"+str(avgwt))\n",
    "print(\"Average Turn Arount Time is: \"+str(avgtat))"
   ]
  },
  {
   "cell_type": "code",
   "execution_count": null,
   "metadata": {},
   "outputs": [],
   "source": []
  }
 ],
 "metadata": {
  "kernelspec": {
   "display_name": "Python 3",
   "language": "python",
   "name": "python3"
  },
  "language_info": {
   "codemirror_mode": {
    "name": "ipython",
    "version": 3
   },
   "file_extension": ".py",
   "mimetype": "text/x-python",
   "name": "python",
   "nbconvert_exporter": "python",
   "pygments_lexer": "ipython3",
   "version": "3.8.3"
  }
 },
 "nbformat": 4,
 "nbformat_minor": 4
}
