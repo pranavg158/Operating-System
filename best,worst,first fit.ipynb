{
 "cells": [
  {
   "cell_type": "markdown",
   "metadata": {},
   "source": [
    "# Pranav Goel"
   ]
  },
  {
   "cell_type": "markdown",
   "metadata": {},
   "source": [
    "# 18csu158"
   ]
  },
  {
   "cell_type": "markdown",
   "metadata": {},
   "source": [
    "# Best Fit "
   ]
  },
  {
   "cell_type": "code",
   "execution_count": 1,
   "metadata": {},
   "outputs": [
    {
     "name": "stdout",
     "output_type": "stream",
     "text": [
      "Process No. Process Size     Block no.\n",
      "1           212         4\n",
      "2           417         2\n",
      "3           112         3\n",
      "4           426         5\n"
     ]
    }
   ],
   "source": [
    "# Function to allocate memory to blocks  \n",
    "# as per Best fit algorithm  \n",
    "def bestFit(blockSize, m, processSize, n): \n",
    "      \n",
    "    # Stores block id of the block  \n",
    "    # allocated to a process  \n",
    "    allocation = [-1] * n  \n",
    "      \n",
    "    # pick each process and find suitable  \n",
    "    # blocks according to its size ad  \n",
    "    # assign to it \n",
    "    for i in range(n): \n",
    "          \n",
    "        # Find the best fit block for \n",
    "        # current process  \n",
    "        bestIdx = -1\n",
    "        for j in range(m): \n",
    "            if blockSize[j] >= processSize[i]: \n",
    "                if bestIdx == -1:  \n",
    "                    bestIdx = j  \n",
    "                elif blockSize[bestIdx] > blockSize[j]:  \n",
    "                    bestIdx = j \n",
    "  \n",
    "        # If we could find a block for  \n",
    "        # current process  \n",
    "        if bestIdx != -1: \n",
    "              \n",
    "            # allocate block j to p[i] process  \n",
    "            allocation[i] = bestIdx  \n",
    "  \n",
    "            # Reduce available memory in this block.  \n",
    "            blockSize[bestIdx] -= processSize[i] \n",
    "  \n",
    "    print(\"Process No. Process Size     Block no.\") \n",
    "    for i in range(n): \n",
    "        print(i + 1, \"         \", processSize[i],  \n",
    "                                end = \"         \")  \n",
    "        if allocation[i] != -1:  \n",
    "            print(allocation[i] + 1)  \n",
    "        else: \n",
    "            print(\"Not Allocated\") \n",
    "  \n",
    "# Driver code  \n",
    "if __name__ == '__main__':  \n",
    "    blockSize = [100, 500, 200, 300, 600]  \n",
    "    processSize = [212, 417, 112, 426]  \n",
    "    m = len(blockSize)  \n",
    "    n = len(processSize)  \n",
    "  \n",
    "    bestFit(blockSize, m, processSize, n) "
   ]
  },
  {
   "cell_type": "markdown",
   "metadata": {},
   "source": [
    "# Worst Fit"
   ]
  },
  {
   "cell_type": "code",
   "execution_count": 2,
   "metadata": {},
   "outputs": [
    {
     "name": "stdout",
     "output_type": "stream",
     "text": [
      "Process No. Process Size Block no.\n",
      "1           212     5\n",
      "2           417     2\n",
      "3           112     5\n",
      "4           426     Not Allocated\n"
     ]
    }
   ],
   "source": [
    "def worstFit(blockSize, m, processSize, n): \n",
    "      \n",
    "    # Stores block id of the block  \n",
    "    # allocated to a process  \n",
    "      \n",
    "    # Initially no block is assigned  \n",
    "    # to any process  \n",
    "    allocation = [-1] * n \n",
    "      \n",
    "    # pick each process and find suitable blocks  \n",
    "    # according to its size ad assign to it  \n",
    "    for i in range(n): \n",
    "          \n",
    "        # Find the best fit block for  \n",
    "        # current process  \n",
    "        wstIdx = -1\n",
    "        for j in range(m): \n",
    "            if blockSize[j] >= processSize[i]: \n",
    "                if wstIdx == -1:  \n",
    "                    wstIdx = j  \n",
    "                elif blockSize[wstIdx] < blockSize[j]:  \n",
    "                    wstIdx = j \n",
    "  \n",
    "        # If we could find a block for  \n",
    "        # current process  \n",
    "        if wstIdx != -1: \n",
    "              \n",
    "            # allocate block j to p[i] process  \n",
    "            allocation[i] = wstIdx  \n",
    "  \n",
    "            # Reduce available memory in this block.  \n",
    "            blockSize[wstIdx] -= processSize[i] \n",
    "  \n",
    "    print(\"Process No. Process Size Block no.\") \n",
    "    for i in range(n): \n",
    "        print(i + 1, \"         \",  \n",
    "              processSize[i], end = \"     \")  \n",
    "        if allocation[i] != -1: \n",
    "            print(allocation[i] + 1)  \n",
    "        else: \n",
    "            print(\"Not Allocated\") \n",
    "  \n",
    "# Driver code  \n",
    "if __name__ == '__main__': \n",
    "    blockSize = [100, 500, 200, 300, 600]  \n",
    "    processSize = [212, 417, 112, 426]  \n",
    "    m = len(blockSize)  \n",
    "    n = len(processSize)  \n",
    "  \n",
    "    worstFit(blockSize, m, processSize, n) "
   ]
  },
  {
   "cell_type": "markdown",
   "metadata": {},
   "source": [
    "# First Fit"
   ]
  },
  {
   "cell_type": "code",
   "execution_count": 3,
   "metadata": {},
   "outputs": [
    {
     "name": "stdout",
     "output_type": "stream",
     "text": [
      " Process No. Process Size      Block no.\n",
      "  1           212           2\n",
      "  2           417           5\n",
      "  3           112           2\n",
      "  4           426           Not Allocated\n"
     ]
    }
   ],
   "source": [
    "def firstFit(blockSize, m, processSize, n): \n",
    "      \n",
    "    # Stores block id of the  \n",
    "    # block allocated to a process  \n",
    "    allocation = [-1] * n  \n",
    "  \n",
    "    # Initially no block is assigned to any process \n",
    "  \n",
    "    # pick each process and find suitable blocks  \n",
    "    # according to its size ad assign to it  \n",
    "    for i in range(n): \n",
    "        for j in range(m): \n",
    "            if blockSize[j] >= processSize[i]: \n",
    "                  \n",
    "                # allocate block j to p[i] process  \n",
    "                allocation[i] = j  \n",
    "  \n",
    "                # Reduce available memory in this block.  \n",
    "                blockSize[j] -= processSize[i]  \n",
    "  \n",
    "                break\n",
    "  \n",
    "    print(\" Process No. Process Size      Block no.\") \n",
    "    for i in range(n): \n",
    "        print(\" \", i + 1, \"         \", processSize[i],  \n",
    "                          \"         \", end = \" \")  \n",
    "        if allocation[i] != -1:  \n",
    "            print(allocation[i] + 1)  \n",
    "        else: \n",
    "            print(\"Not Allocated\") \n",
    "  \n",
    "# Driver code  \n",
    "if __name__ == '__main__':  \n",
    "    blockSize = [100, 500, 200, 300, 600]  \n",
    "    processSize = [212, 417, 112, 426] \n",
    "    m = len(blockSize) \n",
    "    n = len(processSize) \n",
    "  \n",
    "    firstFit(blockSize, m, processSize, n) "
   ]
  },
  {
   "cell_type": "code",
   "execution_count": null,
   "metadata": {},
   "outputs": [],
   "source": []
  }
 ],
 "metadata": {
  "kernelspec": {
   "display_name": "Python 3",
   "language": "python",
   "name": "python3"
  },
  "language_info": {
   "codemirror_mode": {
    "name": "ipython",
    "version": 3
   },
   "file_extension": ".py",
   "mimetype": "text/x-python",
   "name": "python",
   "nbconvert_exporter": "python",
   "pygments_lexer": "ipython3",
   "version": "3.8.3"
  }
 },
 "nbformat": 4,
 "nbformat_minor": 4
}
